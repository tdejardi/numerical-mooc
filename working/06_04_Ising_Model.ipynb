{
 "cells": [
  {
   "cell_type": "markdown",
   "metadata": {},
   "source": [
    "# The Ising Model"
   ]
  },
  {
   "cell_type": "markdown",
   "metadata": {},
   "source": [
    "## A bit of theory"
   ]
  },
  {
   "cell_type": "markdown",
   "metadata": {},
   "source": [
    "The Ising model allows to study ferromagnetism and can be used to study what is known as a phase transition.\n",
    "\n",
    "Take a piece of iron at room temperature and subject it to a strong magnetic field (either using a permanent magnet or an electromagnet). After a while, switch off the magnetic field. You will observe that the piece of iron now acts itself  like a magnet. This property is shared by ferromagnetic materials which are able to sustain a non-zero magnetisation without any external field. However, this property vanishes above a certain temperature. This temperature is called the Curie temperature $T_c$, and depends on the ferromagnetic material considered. For iron,  $T_c$ is 1043 K. In thermodynamic terms we say that the ferromagnetic material undergoes a phase transition at the critical temperature $T_c$ since its properties change abruptly at that temperature.\n",
    "\n",
    "\n",
    "In the Ising model of ferromagnetism, the material considered is described using unit magnets, called dipoles, distributed on a regular lattice and that can either point upwards or downwards (see figure 1). These dipoles represent the atoms that constitute the material and act like magnets oriented in different directions.\n"
   ]
  },
  {
   "cell_type": "markdown",
   "metadata": {},
   "source": [
    "<img src=\"./figures/lattice1.png\" alt=\"Drawing\" style=\"width: 300px;\"/>\n",
    "Figure 1"
   ]
  },
  {
   "cell_type": "markdown",
   "metadata": {},
   "source": [
    "In the simplest version of the Ising model, all the dipoles interact with their nearest neighbors (left, right, above, below). When two neighbors are aligned, the system is in a more stable configuration than when they are aligned in opposite directions (you may observe a similar property if you put two compasses near each other). The energy of the system can then be written as,\n",
    "\n",
    "$$\n",
    "E=-J\\sum_{pairs(i,j)} s_i s_j,\n",
    "$$\n",
    "\n",
    "where the sum runs over all the pairs of dipoles in the system and $s_i$ denotes the 'spin' of the $i$-th dipole which is equal to $1$ or $-1$ wether the dipole points upwards or downwards; $J>0$ is the coupling constant for each pair of dipoles. We thus see that the energy is minimized and equal to $-JN_{pairs}$ when all the dipoles point in the same direction. \n",
    "\n",
    "Each time a dipole is flipped, the energy changes by an amount equal to,\n",
    "\n",
    "$$\n",
    "\\Delta E = 2{J} s_i \\sum_{j \\in n(i)} s_j\n",
    "$$\n",
    "\n",
    "where $n(i)$ denotes all the neighbors of the $i$-th dipole. $\\Delta E$ is positive or negative depending on the sign of $s_i$ and the total spin of the neighbors.\n",
    "\n",
    "According to statistical mechanics, the probability of finding the system in a given configuration $X$ is equal to,\n",
    "\n",
    "$$\n",
    "p(X) = \\frac{e^{-\\beta E_X}}{Z}\n",
    "$$\n",
    "\n",
    "where $E_X$ is the potential energy of the configuration and $\\beta=1/k_B T$ where $k_B$ is the so-called Boltzmann constant. In other words, the higher the potential energy, the less likely it is to find the system in the corresponding configuration. In the above formula $Z$ is a normalisation constant such that $\\sum_X p(X)=1$,\n",
    "\n",
    "$$\n",
    "Z=\\sum_X e^{-\\beta E_X}.\n",
    "$$\n",
    "\n",
    "Knowing the probability of each state $X$ makes it possible to compute many quantities by simply performing averages (which is the whole idea behind statistical mechanics). For instance, the mean energy and the mean magnetisation are respectively,\n",
    "\n",
    "$$\n",
    "<E> = \\frac{\\sum_X E_X e^{-\\beta E_X}}{Z}\\\\\n",
    "<M> = \\frac{\\sum_X M_X e^{-\\beta E_X}}{Z}\n",
    "$$\n",
    "\n",
    "with $M_X=\\sum_{i=1}^N s_i$ for the given state. This quantity is particularly interesting as it is a signature for studying the phase transition. Above the Curie temperature, one has $<M>=0$ while $<M>$ has a finite non vanishing value below the Curie temperature.\n",
    "\n"
   ]
  },
  {
   "cell_type": "markdown",
   "metadata": {},
   "source": [
    "## The Metropolis algorithm"
   ]
  },
  {
   "cell_type": "markdown",
   "metadata": {},
   "source": [
    "Computing averages over all possible states poses a computational difficulty when the number of lattice points becomes large. For example, for a $100\\times100$ lattice, the number of possible states is $2^{10000}$ which is a huge number and makes brut force computation impossible. Thankfully, we can rely on stochastic methods and use, for instance, the Metropolis Monte Carlo algorithm.\n",
    "\n",
    "Let us consider an initial state in which each spin takes a random orientation. \n",
    "The unit step of the Metropolis algorithm consists in choosing a random spin and in attempting to change its orientation. If the energy of the reversed spin decreases, the flipped state is chosen as the new configuration of the system.\n",
    "Otherwise if the energy increases by $\\Delta E$, the flip is only accepted with the probability,\n",
    "\n",
    "$$\n",
    "p_{\\rm flip}=e^{-\\beta\\Delta E},\n",
    "$$\n",
    "\n",
    "otherwise the current state is retained as the new configuration. This process is repeated until a large enough number of states $X_k$ has been collected.\n",
    "\n",
    "The averages we are interested in, such as the energy or the magnetisation, are then computed according to,\n",
    "\n",
    "$$\n",
    "<E> = \\frac{\\sum_k E_k}{N_k}\\\\\n",
    "<M> = \\frac{\\sum_k M_k}{N_k}\n",
    "$$\n",
    "\n",
    "where the sums run over all the states generated through the Metropolis algorithm and $N_k$ is the total number of them.\n",
    "\n",
    "Compared to the averages over all possible states, we see here that we only sum over a subset of them. However, thanks to the Metropolis algorithm, the states corresponding to different values of the energy are generated with the right distribution function and the averages above converge to the equilibrium values as $N_k\\rightarrow \\infty$. Technically speaking, the (normed) histogram of the states generated with the Metropolis algorithm converges to the same histogram\n",
    "obtained using the full set of states weighted with their Boltzmann factor."
   ]
  },
  {
   "cell_type": "markdown",
   "metadata": {},
   "source": [
    "### Verification"
   ]
  },
  {
   "cell_type": "markdown",
   "metadata": {},
   "source": [
    "Instead of providing a formal proof that the Metropolis algorithm works, let us check this for a simplified system in which all the spins are fixed except at one location.\n",
    "\n",
    "Before doing so, we first adopt a non-dimensional unit system. \n",
    "Initially, our ferromagnetism problem has two parameters: the temperature $T$ and the coupling constant $J$. However, if we adopt as energy unit the product $k_b T$, our model has only one free parameter $\\alpha=J/(k_b T)$ and the relevant formulas read:\n",
    "\n",
    "$$\n",
    "\\Delta E = 2{\\alpha} s_i \\sum_{j \\in n(i)} s_j \\\\\n",
    "p_{\\rm flip}=e^{-\\Delta E}\n",
    "$$\n",
    "\n",
    "Any two materials at given temperatures can be described by the same equations as long as they have the same value of $\\alpha$.\n",
    "\n",
    "We first import a few libaries and load a $10\\times 10$ initial state so that we all start from the same one."
   ]
  },
  {
   "cell_type": "code",
   "execution_count": 1,
   "metadata": {
    "collapsed": true
   },
   "outputs": [],
   "source": [
    "%matplotlib inline\n",
    "import numpy\n",
    "from matplotlib import pyplot\n",
    "import matplotlib.cm as cm\n",
    "from matplotlib import animation\n",
    "from IPython.display import HTML"
   ]
  },
  {
   "cell_type": "code",
   "execution_count": 2,
   "metadata": {},
   "outputs": [
    {
     "data": {
      "text/plain": [
       "<matplotlib.image.AxesImage at 0x2497c1f34a8>"
      ]
     },
     "execution_count": 2,
     "metadata": {},
     "output_type": "execute_result"
    },
    {
     "data": {
      "image/png": "[encoded data removed]",
      "text/plain": [
       "<matplotlib.figure.Figure at 0x2497b528128>"
      ]
     },
     "metadata": {},
     "output_type": "display_data"
    }
   ],
   "source": [
    "nx=10\n",
    "ny=10\n",
    "\n",
    "# Non-dimensional coupling constant J/(kb*T)\n",
    "alpha = 0.1\n",
    "\n",
    "# Initial spins at each site\n",
    "sp = numpy.load('initial_state.npy')\n",
    "\n",
    "pyplot.figure(figsize=(6,6))\n",
    "pyplot.imshow(sp,interpolation=\"none\",origin='lower')"
   ]
  },
  {
   "cell_type": "markdown",
   "metadata": {},
   "source": [
    "Blue and red represent respectively sites that have their spins pointing down or up. Focus now the attention on the site with coordinates (x,y)=(5,5). It pointing down and has three neighbors pointing up and one pointing down.\n",
    "\n",
    "We may compute the contribution to the energy coming from this site with the following subroutine (we assume that the system is periodic in both directions):"
   ]
  },
  {
   "cell_type": "code",
   "execution_count": 3,
   "metadata": {
    "collapsed": true
   },
   "outputs": [],
   "source": [
    "def energy_at_site(sp,alpha,sigma,ix,iy):\n",
    "    \"\"\" Computes the contribution to the energy for a given spin\n",
    "    at location ix,iy for a lattice with periodic boundary conditions\n",
    "   \n",
    "    Parameters:\n",
    "    ----------\n",
    "    sp: numpy array\n",
    "        array of spins\n",
    "    alpha  : real\n",
    "        coupling constant J/(kb*T)\n",
    "    sigma   : int\n",
    "        spin at site ix,iy\n",
    "    ix   : int\n",
    "        location in x\n",
    "    iy   : int\n",
    "        location in y\n",
    "    \n",
    "   \n",
    "    Returns:\n",
    "    -------\n",
    "    energy: energy for the given configuration\n",
    "    \"\"\"\n",
    "    \n",
    "    energy=-alpha*sigma*(sp[(ix-1)%nx,iy]+sp[(ix+1)%nx,iy]+sp[ix,(iy-1)%ny]+sp[ix,(iy+1)%ny])\n",
    "\n",
    "    return energy\n",
    "\n"
   ]
  },
  {
   "cell_type": "markdown",
   "metadata": {},
   "source": [
    "In this case, we have:"
   ]
  },
  {
   "cell_type": "code",
   "execution_count": 4,
   "metadata": {},
   "outputs": [
    {
     "name": "stdout",
     "output_type": "stream",
     "text": [
      "0.2\n"
     ]
    }
   ],
   "source": [
    "print(energy_at_site(sp,alpha,-1,5,5))"
   ]
  },
  {
   "cell_type": "markdown",
   "metadata": {},
   "source": [
    "If we flip the dipole at site (5,5) we get:"
   ]
  },
  {
   "cell_type": "code",
   "execution_count": 5,
   "metadata": {},
   "outputs": [
    {
     "name": "stdout",
     "output_type": "stream",
     "text": [
      "-0.2\n"
     ]
    }
   ],
   "source": [
    "print(energy_at_site(sp,alpha,1,5,5))"
   ]
  },
  {
   "cell_type": "markdown",
   "metadata": {},
   "source": [
    "We conclude that the configuration with the spin pointing upwards has a lower energy. So as the dipole continually flips because of thermal fluctuations, it should be more frequently in that direction. The relative probability of having the spin down compared to the spin up is:\n",
    "\n",
    "$$\n",
    "\\frac{p({\\rm up})}{p({\\rm downs})} = e^{-\\Delta E}=e^{0.4}\\approx 1.49\n",
    "$$"
   ]
  },
  {
   "cell_type": "markdown",
   "metadata": {},
   "source": [
    "Let's see if we can reproduce this result using a sequence of states generated with the Metropolis algorithm. To that end we first define a routine that flips the state at a given position with a probability $p_{\\rm flip}=e^{-\\Delta E}$:"
   ]
  },
  {
   "cell_type": "code",
   "execution_count": 6,
   "metadata": {
    "collapsed": true
   },
   "outputs": [],
   "source": [
    "def metropolis_at_site(sp,alpha,ix,iy):\n",
    "    \"\"\" Flips a dipole at site ix, iy when probability condition is met \n",
    "   \n",
    "    Parameters:\n",
    "    ----------\n",
    "    sp: numpy array\n",
    "        array of spins\n",
    "    alpha  : real\n",
    "        coupling constant J/(kb*T)\n",
    "    ix   : int\n",
    "        location in x\n",
    "    iy   : int\n",
    "        location in y\n",
    "    \"\"\"\n",
    "    sigma=sp[ix,iy]\n",
    "    energy_before_flip = energy_at_site(sp,alpha,sigma,ix,iy)\n",
    "    sigma = -sigma\n",
    "    energy_if_site_flipped = energy_at_site(sp,alpha,sigma,ix,iy)\n",
    "    \n",
    "    # Flip the site with Metropolis probability\n",
    "    # Condition is always satisifed if dE < 0\n",
    "    if (numpy.random.random_sample()<numpy.exp(-(energy_if_site_flipped \\\n",
    "                                               -energy_before_flip))):\n",
    "        sp[ix,iy]=-sp[ix,iy]"
   ]
  },
  {
   "cell_type": "markdown",
   "metadata": {},
   "source": [
    "Now generate a sequence of states with the Metropolis algorithm and compute the ratio of states pointing upwards or downwards:"
   ]
  },
  {
   "cell_type": "code",
   "execution_count": 7,
   "metadata": {},
   "outputs": [
    {
     "name": "stdout",
     "output_type": "stream",
     "text": [
      "1.4892960270835407\n"
     ]
    }
   ],
   "source": [
    "NMC = 100000\n",
    "states = numpy.empty(NMC+1)\n",
    "states[0]=sp[5,5]\n",
    "\n",
    "for n in range(0,NMC):\n",
    "    metropolis_at_site(sp,alpha,5,5)\n",
    "    states[n]=sp[5,5]\n",
    "\n",
    "ups = numpy.extract(states==1, states).size\n",
    "downs = NMC - ups\n",
    "print(ups/downs)"
   ]
  },
  {
   "cell_type": "code",
   "execution_count": null,
   "metadata": {
    "collapsed": true
   },
   "outputs": [],
   "source": []
  },
  {
   "cell_type": "markdown",
   "metadata": {},
   "source": [
    "Not bad! We see that the Metropolis algorithm generated the right proportion of states with the dipole pointing up or down (the ratio converges to the expected value as the number of states generated is increased). \n",
    "\n",
    "**Challenge:** Check that this is not a coincidence and that the metropolis algorithm gives the correct ratio of \"ups\" and \"downs\" for different lattice configurations. You may use the following routine to generate different ones with random initial dipole orientations."
   ]
  },
  {
   "cell_type": "code",
   "execution_count": 8,
   "metadata": {
    "collapsed": true
   },
   "outputs": [],
   "source": [
    "def initial_state(nx,ny):\n",
    "    \"\"\" Creates a lattice with random spin orientations\n",
    "   \n",
    "    Parameters:\n",
    "    ----------\n",
    "    nx   : int\n",
    "        Discretization points in x\n",
    "    ny   : int\n",
    "        Discretization points in y\n",
    "   \n",
    "    Returns:\n",
    "    -------\n",
    "    r: 2D array of spins\n",
    "    \"\"\"\n",
    "       \n",
    "    # Uniform random spins between 0 and 1  \n",
    "    r = numpy.random.randint(0,2,(nx,ny))\n",
    "    \n",
    "    # Where r=0, we assign a negative spin\n",
    "    r[r==0] =-1\n",
    "\n",
    "    return r"
   ]
  },
  {
   "cell_type": "code",
   "execution_count": 61,
   "metadata": {
    "collapsed": true
   },
   "outputs": [],
   "source": [
    "sp1=initial_state(7,7)"
   ]
  },
  {
   "cell_type": "code",
   "execution_count": 62,
   "metadata": {},
   "outputs": [
    {
     "name": "stdout",
     "output_type": "stream",
     "text": [
      "1.0\n"
     ]
    }
   ],
   "source": [
    "NMC = 100000\n",
    "states = numpy.empty(NMC+1)\n",
    "states[0]=sp1[5,5]\n",
    "\n",
    "for n in range(0,NMC):\n",
    "    metropolis_at_site(sp1,alpha,5,5)\n",
    "    states[n]=sp1[5,5]\n",
    "\n",
    "ups = numpy.extract(states==1, states).size\n",
    "downs = NMC - ups\n",
    "print(ups/downs)"
   ]
  },
  {
   "cell_type": "code",
   "execution_count": 63,
   "metadata": {},
   "outputs": [
    {
     "name": "stdout",
     "output_type": "stream",
     "text": [
      "0.0\n"
     ]
    }
   ],
   "source": [
    "print(energy_at_site(sp1,alpha,-1,5,5))"
   ]
  },
  {
   "cell_type": "code",
   "execution_count": 64,
   "metadata": {},
   "outputs": [
    {
     "name": "stdout",
     "output_type": "stream",
     "text": [
      "-0.0\n"
     ]
    }
   ],
   "source": [
    "print(energy_at_site(sp1,alpha,1,5,5))"
   ]
  },
  {
   "cell_type": "code",
   "execution_count": 65,
   "metadata": {},
   "outputs": [
    {
     "data": {
      "text/plain": [
       "1.4918246976412703"
      ]
     },
     "execution_count": 65,
     "metadata": {},
     "output_type": "execute_result"
    }
   ],
   "source": [
    "numpy.exp(-(-0.2-0.2))"
   ]
  },
  {
   "cell_type": "code",
   "execution_count": 71,
   "metadata": {},
   "outputs": [],
   "source": [
    "sp=[]\n",
    "i=7\n",
    "j=7\n",
    "for n in range(5):\n",
    "    spi=initial_state(i,j)\n",
    "    sp.append(spi)\n",
    "    i=i+5\n",
    "    j=j+5\n",
    "    "
   ]
  },
  {
   "cell_type": "code",
   "execution_count": 74,
   "metadata": {},
   "outputs": [
    {
     "name": "stdout",
     "output_type": "stream",
     "text": [
      "1.0 1.0\n",
      "0.670320046036 0.6705367434556723\n",
      "0.670320046036 0.6727722855087737\n",
      "0.670320046036 0.6710950685984526\n",
      "2.22554092849 2.209551625637898\n"
     ]
    }
   ],
   "source": [
    "for k in range (5):\n",
    "    NMC = 100000\n",
    "    states = numpy.empty(NMC+1)\n",
    "    current=sp[k]\n",
    "    states[0]=current[5,5]\n",
    "\n",
    "    for n in range(0,NMC):\n",
    "        metropolis_at_site(current,alpha,5,5)\n",
    "        states[n]=current[5,5]\n",
    "\n",
    "    ups = numpy.extract(states==1, states).size\n",
    "    downs = NMC - ups\n",
    "    unflip=energy_at_site(current,alpha,-1,5,5)\n",
    "    flip= energy_at_site(current,alpha,1,5,5)\n",
    "    print(numpy.exp(-(flip-unflip)), (ups/downs))"
   ]
  },
  {
   "cell_type": "markdown",
   "metadata": {},
   "source": [
    "## Back to the Ising Model"
   ]
  },
  {
   "cell_type": "markdown",
   "metadata": {},
   "source": [
    "Our objective in this section is to show that the ferromagnetic material is indeed subject to a phase transition at a given coupling constant $\\alpha$ by using the Metropolis algorithm to generate a sequence of lattices with the right probabilities.\n",
    "\n",
    "We first initialize the lattice with all spins pointing upwards (i.e. we assume that the material has been completely magnetized)."
   ]
  },
  {
   "cell_type": "code",
   "execution_count": null,
   "metadata": {
    "collapsed": true
   },
   "outputs": [],
   "source": [
    "nx = 100\n",
    "ny = 100\n",
    "\n",
    "sp = numpy.ones([nx,ny])"
   ]
  },
  {
   "cell_type": "markdown",
   "metadata": {},
   "source": [
    "We now need a routine to create a sequence of states by trying to flip the spins at random sites if the Metropolis condition is satisfied. Note that instead of keeping all the states, we attempt $nx*ny$ flips between the retained ones so that the system has a chance to change significantly."
   ]
  },
  {
   "cell_type": "code",
   "execution_count": null,
   "metadata": {
    "collapsed": true
   },
   "outputs": [],
   "source": [
    "def ising_model_metropolis(sp, NMC, nx, ny, alpha):\n",
    "    \"\"\" Creates a sequence of states for the Ising model using\n",
    "    the Metropolis algorithm\n",
    "   \n",
    "    Parameters:\n",
    "    ----------\n",
    "    sp   : initial lattice state\n",
    "    nx   : int\n",
    "        Discretization points in x\n",
    "    ny   : int\n",
    "        Discretization points in y\n",
    "    NMC  : int\n",
    "        Number of states to create\n",
    "    alpha  : real\n",
    "        coupling constant J/(kb*T)\n",
    "    Returns:\n",
    "    -------\n",
    "    states: sequence of states\n",
    "    \"\"\"\n",
    "    states = numpy.empty([NMC+1,nx,ny])\n",
    "    states[0] = sp.copy()\n",
    "    \n",
    "    for i in range(1,NMC+1):\n",
    "        for j in range(0,nx*ny):\n",
    "            ix=numpy.random.randint(0,nx)\n",
    "            iy=numpy.random.randint(0,ny)\n",
    "            metropolis_at_site(sp,alpha,ix,iy)\n",
    "        states[i]=sp.copy()\n",
    "    return states"
   ]
  },
  {
   "cell_type": "markdown",
   "metadata": {},
   "source": [
    "OK, let's compare what happens for two different values of the coupling constant $\\alpha$. In the examples below, we gather 100 states; this number is quite low as we want to keep modest simulation times."
   ]
  },
  {
   "cell_type": "code",
   "execution_count": null,
   "metadata": {
    "collapsed": true
   },
   "outputs": [],
   "source": [
    "NMC=100\n",
    "alpha=0.2\n",
    "\n",
    "states_0_2 = ising_model_metropolis(sp, NMC, nx, ny, alpha)"
   ]
  },
  {
   "cell_type": "code",
   "execution_count": null,
   "metadata": {
    "collapsed": true
   },
   "outputs": [],
   "source": [
    "NMC=100\n",
    "sp = numpy.ones([nx,ny])\n",
    "alpha=0.7\n",
    "states_0_7 = ising_model_metropolis(sp, NMC, nx, ny, alpha)"
   ]
  },
  {
   "cell_type": "code",
   "execution_count": null,
   "metadata": {},
   "outputs": [],
   "source": [
    "fig = pyplot.figure(figsize=(6,3))\n",
    "\n",
    "pyplot.subplot(1, 2, 1)\n",
    "img1 = pyplot.imshow(states_0_2[0],interpolation=\"none\",origin='lower',\\\n",
    "                     vmin=-1, vmax=1)\n",
    "\n",
    "pyplot.subplot(1, 2, 2)\n",
    "img2 = pyplot.imshow(states_0_7[0],interpolation=\"none\",origin='lower',\\\n",
    "                     vmin=-1, vmax=1)\n",
    "\n",
    "# Animate\n",
    "def animate(i):\n",
    "    img1.set_array(states_0_2[i])\n",
    "    img2.set_array(states_0_7[i])\n",
    "\n",
    "anim = animation.FuncAnimation(fig, animate, frames=NMC, interval=200)\n",
    "pyplot.close()\n",
    "HTML(anim.to_html5_video())"
   ]
  },
  {
   "cell_type": "markdown",
   "metadata": {},
   "source": [
    "Great! We see that for $\\alpha=0.2$, the spins remain disorganised while for $\\alpha=0.7$ the system remains nearly completely magnetized. Does this make sense according to the theory we have outlined at the beginning of the notebook? Let's also look at the evolution of the total spin (magnetisation) as the sequence is generated."
   ]
  },
  {
   "cell_type": "code",
   "execution_count": null,
   "metadata": {},
   "outputs": [],
   "source": [
    "pyplot.figure()\n",
    "pyplot.plot(states_0_7.sum(axis=(1,2)),label=r'$\\alpha=0.7$')\n",
    "pyplot.plot(states_0_2.sum(axis=(1,2)),label=r'$\\alpha=0.2$')\n",
    "pyplot.legend()\n",
    "pyplot.tight_layout()"
   ]
  },
  {
   "cell_type": "markdown",
   "metadata": {},
   "source": [
    "In both cases, the initial magnetisation is maximum. For $\\alpha=0.2$, it rapidly decays and oscillates around a vanishing value; for $\\alpha=0.7$, the magnetisation remains maxiumum. \n",
    "\n",
    "For $\\alpha=2$, it takes a finite time before the system reaches a statistically steady state. In such case, when taking averages over the sequence of states to estimate a physical quantity, it might be necessary to sample more states and remove the initial ones which are far from equilibrium and that bias statistical averages. This is especially true close to the critical temperature as the magnetization decays rather slowly. "
   ]
  },
  {
   "cell_type": "markdown",
   "metadata": {},
   "source": [
    "## Challenge\n",
    "\n",
    "- Perform a series of runs with $\\alpha \\in [0 1]$ and plot the average energy of the system and its magnetisation as a function of $\\alpha$. Estimate the critical value of $\\alpha$ at which the phase transition occurs. Is it compatible with Onsager's exact solution for the system?\n",
    "- Redo the analysis with a different set of boundary conditions for the lattice and a different initial lattice configuration. For example, you could assume that on the borders all the spins are pointing upwards on the borders while they are randomly oriented in the bulk."
   ]
  },
  {
   "cell_type": "code",
   "execution_count": null,
   "metadata": {},
   "outputs": [],
   "source": [
    "from IPython.core.display import HTML\n",
    "css_file = '../../styles/numericalmoocstyle.css'\n",
    "HTML(open(css_file, \"r\").read())"
   ]
  },
  {
   "cell_type": "code",
   "execution_count": null,
   "metadata": {
    "collapsed": true
   },
   "outputs": [],
   "source": []
  }
 ],
 "metadata": {
  "anaconda-cloud": {},
  "kernelspec": {
   "display_name": "Python 3",
   "language": "python",
   "name": "python3"
  },
  "language_info": {
   "codemirror_mode": {
    "name": "ipython",
    "version": 3
   },
   "file_extension": ".py",
   "mimetype": "text/x-python",
   "name": "python",
   "nbconvert_exporter": "python",
   "pygments_lexer": "ipython3",
   "version": "3.6.1"
  }
 },
 "nbformat": 4,
 "nbformat_minor": 1
}

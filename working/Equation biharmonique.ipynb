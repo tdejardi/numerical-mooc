{
 "cells": [
  {
   "cell_type": "code",
   "execution_count": 6,
   "metadata": {
    "collapsed": true
   },
   "outputs": [],
   "source": [
    "import numpy as np\n",
    "from matplotlib import pyplot\n",
    "%matplotlib inline\n",
    "from matplotlib import rcParams, cm\n",
    "rcParams['font.family'] = 'serif'\n",
    "rcParams['font.size'] = 16\n",
    "import matplotlib.animation as animation\n",
    "from IPython.display import HTML"
   ]
  },
  {
   "cell_type": "code",
   "execution_count": 7,
   "metadata": {},
   "outputs": [],
   "source": [
    "nx = 41\n",
    "ny = 41\n",
    "L  =  1\n",
    "H =  1\n",
    "\n",
    "dx  =  L/(nx-1)\n",
    "dy=  H/(ny-1)\n",
    "\n",
    "l2_norm = 1\n",
    "l1_target = 1e-8"
   ]
  },
  {
   "cell_type": "code",
   "execution_count": 8,
   "metadata": {
    "collapsed": true
   },
   "outputs": [],
   "source": [
    "#l=ind de la position en l\n",
    "l=int(L/dx)   #dx=dy\n",
    "\n",
    "def border_cond(l, delta_x):\n",
    "    #neumann cond\n",
    "    psi[1:-1,1] = 1/4*psi[1:-1,2]     #en x = 0 (forward 2nd order)\n",
    "    psi[1:-1,l-1] = 1/4*psi[1:-1,l-2]   #en x = l\n",
    "    psi[1,1:-1]= 1/4*psi[2,1:-1]         #en y=0\n",
    "    psi[l-1,1:-1]=1/2*(1/2*psi[l-2,i]-delta_x)     #en y = L"
   ]
  },
  {
   "cell_type": "code",
   "execution_count": 9,
   "metadata": {
    "collapsed": true
   },
   "outputs": [],
   "source": [
    "def conjugate_gradient_biharm(p, l, delta_x, dx, dy, l2_target):\n",
    "    '''Performs cg relaxation\n",
    "    Assumes Dirichlet boundary conditions p=0\n",
    "    \n",
    "    Parameters:\n",
    "    ----------\n",
    "    p : 2D array of floats\n",
    "        Initial guess\n",
    "    b : 2D array of floats\n",
    "        Source term\n",
    "    dx: float\n",
    "        Mesh spacing in x direction\n",
    "    dy: float\n",
    "        Mesh spacing in y direction\n",
    "    l2_target: float\n",
    "        exit criterion\n",
    "        \n",
    "    Returns:\n",
    "    -------\n",
    "    p: 2D array of float\n",
    "        Distribution after relaxation\n",
    "    '''\n",
    "    ny, nx = p.shape\n",
    "    r  = numpy.zeros((ny,nx)) # residual\n",
    "    Ad  = numpy.zeros((ny,nx)) # to store result of matrix multiplication \n",
    "    \n",
    "    l2_norm = 1\n",
    "    iterations = 0\n",
    "    l2_conv = []\n",
    "    \n",
    "    # Step-0 We compute the initial residual and \n",
    "    # the first search direction is just this residual\n",
    "    \n",
    "    r[1:-1,1:-1]= 1/20 * (8*(p[1:-1,2:] + p[2:,1:-1] + p[1:-1,:-2]+ \\\n",
    "                        p[:-2, 1:-1])-2*(p[:-2,2:]+p[2:,2:]+\\\n",
    "                        p[:-2,:-2])-(p[1:-1,3:]+p[3:,1:-1]+\\\n",
    "                        p[1:-1,:-3]+p[:-3,1:-1]))\n",
    "    \n",
    "    \n",
    "    #r[1:-1,1:-1] = 4*p[1:-1,1:-1] - \\\n",
    "        #p[1:-1,2:] - p[1:-1,:-2] - p[2:, 1:-1] - p[:-2, 1:-1]\n",
    "    d = r.copy()\n",
    "    rho = numpy.sum(r*r)\n",
    "    \n",
    "    Ad[1:-1,1:-1]= -1/20 * (8*(d[1:-1,2:] - d[2:,1:-1] - d[1:-1,:-2]- \\\n",
    "                        d[:-2, 1:-1])+2*(d[:-2,2:]-d[2:,2:]-\\\n",
    "                        d[:-2,:-2])+(d[1:-1,3:]-d[3:,1:-1]-\\\n",
    "                        d[1:-1,:-3]-d[:-3,1:-1]))\n",
    "    \n",
    "    #Ad[1:-1,1:-1] = -4*d[1:-1,1:-1]+d[1:-1,2:]+d[1:-1,:-2]+\\\n",
    "        #d[2:, 1:-1] + d[:-2, 1:-1]\n",
    "    sigma = numpy.sum(d*Ad)\n",
    "    \n",
    "    # Iterations\n",
    "    while l2_norm > l2_target:\n",
    "\n",
    "        pk = p.copy()\n",
    "        rk = r.copy()\n",
    "        dk = d.copy()\n",
    "        \n",
    "        alpha = rho/sigma\n",
    "\n",
    "        p = pk + alpha*dk\n",
    "        r = rk- alpha*Ad\n",
    "        \n",
    "        rhop1 = numpy.sum(r*r)\n",
    "        beta = rhop1 / rho\n",
    "        rho = rhop1\n",
    "        \n",
    "        d = r + beta*dk\n",
    "        Ad[1:-1,1:-1]= -1/20 * (8*(d[1:-1,2:] - d[2:,1:-1] - d[1:-1,:-2]- \\\n",
    "                        d[:-2, 1:-1])+2*(d[:-2,2:]-d[2:,2:]-\\\n",
    "                        d[:-2,:-2])+(d[1:-1,3:]-d[3:,1:-1]-\\\n",
    "                        d[1:-1,:-3]-d[:-3,1:-1]))\n",
    "       # Ad[1:-1,1:-1] = -4*d[1:-1,1:-1] + d[1:-1,2:] + d[1:-1,:-2] + \\\n",
    "         #   d[2:, 1:-1] + d[:-2, 1:-1]\n",
    "        sigma = numpy.sum(d*Ad)\n",
    "        \n",
    "        # BCs are automatically enforced\n",
    "        border_cond(l, delta_x)\n",
    "        \n",
    "        l2_norm = L2_rel_error(pk,p)\n",
    "        iterations += 1\n",
    "        l2_conv.append(l2_norm)\n",
    "    \n",
    "    print('Number of CG iterations: {0:d}'.format(iterations))\n",
    "    return p, l2_conv     \n"
   ]
  },
  {
   "cell_type": "code",
   "execution_count": null,
   "metadata": {
    "collapsed": true
   },
   "outputs": [],
   "source": []
  }
 ],
 "metadata": {
  "kernelspec": {
   "display_name": "Python 3",
   "language": "python",
   "name": "python3"
  },
  "language_info": {
   "codemirror_mode": {
    "name": "ipython",
    "version": 3
   },
   "file_extension": ".py",
   "mimetype": "text/x-python",
   "name": "python",
   "nbconvert_exporter": "python",
   "pygments_lexer": "ipython3",
   "version": "3.6.1"
  }
 },
 "nbformat": 4,
 "nbformat_minor": 2
}
